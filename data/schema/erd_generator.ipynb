{
 "cells": [
  {
   "cell_type": "code",
   "execution_count": 12,
   "id": "f87daf69-fc19-4200-af7c-3ac12eedb69e",
   "metadata": {},
   "outputs": [],
   "source": [
    "import pandas as pd\n",
    "import matplotlib.pyplot as plt\n",
    "import dataframe_image as dfi  # Make sure it's installed\n",
    "import os\n",
    "\n",
    "\n",
    "# Example DataFrames\n",
    "red = pd.read_csv('./data/raw/winequality-red.csv', sep=';')\n",
    "white = pd.read_csv('./data/raw/winequality-white.csv', sep=';')"
   ]
  },
  {
   "cell_type": "code",
   "execution_count": 14,
   "id": "9074d168-8a41-48e1-a8ce-4ad0f7b163c0",
   "metadata": {},
   "outputs": [
    {
     "name": "stdout",
     "output_type": "stream",
     "text": [
      "✅ Saved: C:/Users/USER/Wine-Quality-UCI-Dataset-/data/schema\\red_wine_schema.png\n",
      "✅ Saved: C:/Users/USER/Wine-Quality-UCI-Dataset-/data/schema\\white_wine_schema.png\n"
     ]
    }
   ],
   "source": [
    "# Define the output directory\n",
    "output_dir = \"C:/Users/USER/Wine-Quality-UCI-Dataset-/data/schema\"  # Change this to your desired path\n",
    "os.makedirs(output_dir, exist_ok=True)  # Ensure the folder exists\n",
    "\n",
    "# Function to save schema as an image in a custom directory\n",
    "def save_table_schema(df, table_name):\n",
    "    df_info = pd.DataFrame(df.dtypes, columns=['Data Type']).reset_index()\n",
    "    df_info.columns = ['Column Name', 'Data Type']\n",
    "    \n",
    "    # Set the file path inside the output directory\n",
    "    file_name = os.path.join(output_dir, f\"{table_name.lower().replace(' ', '_')}_schema.png\")\n",
    "    \n",
    "    # Save using Matplotlib instead of Playwright\n",
    "    dfi.export(df_info, file_name, table_conversion=\"matplotlib\")  \n",
    "    print(f\"✅ Saved: {file_name}\")\n",
    "\n",
    "# Generate images for both tables\n",
    "save_table_schema(red, \"Red Wine\")\n",
    "save_table_schema(white, \"White Wine\")\n"
   ]
  },
  {
   "cell_type": "code",
   "execution_count": null,
   "id": "2d0eeebc-7866-49eb-8882-e22e6b91e1dc",
   "metadata": {},
   "outputs": [],
   "source": []
  }
 ],
 "metadata": {
  "kernelspec": {
   "display_name": "Python 3 (ipykernel)",
   "language": "python",
   "name": "python3"
  },
  "language_info": {
   "codemirror_mode": {
    "name": "ipython",
    "version": 3
   },
   "file_extension": ".py",
   "mimetype": "text/x-python",
   "name": "python",
   "nbconvert_exporter": "python",
   "pygments_lexer": "ipython3",
   "version": "3.12.4"
  }
 },
 "nbformat": 4,
 "nbformat_minor": 5
}
