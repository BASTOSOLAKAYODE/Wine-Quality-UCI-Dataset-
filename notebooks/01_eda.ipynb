{
 "cells": [
  {
   "cell_type": "code",
   "execution_count": 1,
   "id": "f0e830a9-e4af-4089-9154-3ccf7327b100",
   "metadata": {},
   "outputs": [],
   "source": [
    "# import libraries and load csv\n",
    "import pandas as pd\n",
    "import numpy as np\n",
    "import seaborn as sns\n",
    "import matplotlib.pyplot as plt\n",
    "%matplotlib inline"
   ]
  },
  {
   "cell_type": "code",
   "execution_count": 2,
   "id": "02c5596c-7793-4ad2-ba7a-3368a2bfb8c1",
   "metadata": {},
   "outputs": [
    {
     "name": "stdout",
     "output_type": "stream",
     "text": [
      "   fixed_acidity  volatile_acidity  citric_acid  residual_sugar  chlorides  \\\n",
      "0            7.4              0.70         0.00             1.9      0.076   \n",
      "1            7.8              0.88         0.00             2.6      0.098   \n",
      "2            7.8              0.76         0.04             2.3      0.092   \n",
      "3           11.2              0.28         0.56             1.9      0.075   \n",
      "4            7.4              0.66         0.00             1.8      0.075   \n",
      "\n",
      "   free_sulfur_dioxide  total_sulfur_dioxide  density    pH  sulphates  \\\n",
      "0                 11.0                  34.0   0.9978  3.51       0.56   \n",
      "1                 25.0                  67.0   0.9968  3.20       0.68   \n",
      "2                 15.0                  54.0   0.9970  3.26       0.65   \n",
      "3                 17.0                  60.0   0.9980  3.16       0.58   \n",
      "4                 13.0                  40.0   0.9978  3.51       0.56   \n",
      "\n",
      "   alcohol  quality color  \n",
      "0      9.4        5   red  \n",
      "1      9.8        5   red  \n",
      "2      9.8        5   red  \n",
      "3      9.8        6   red  \n",
      "4      9.4        5   red  \n"
     ]
    }
   ],
   "source": [
    "# Load the cleaned dataset from the directory\n",
    "data_cleaned = pd.read_csv('../data/processed/data_cleaned.csv')\n",
    "\n",
    "# Verify the data is loaded successfully\n",
    "print(data_cleaned.head())"
   ]
  },
  {
   "cell_type": "code",
   "execution_count": null,
   "id": "9d465ba6-b176-4864-b1cd-4dea1f800353",
   "metadata": {},
   "outputs": [],
   "source": []
  },
  {
   "cell_type": "code",
   "execution_count": null,
   "id": "0a05543f-c27d-449d-8662-51f9116f4d5a",
   "metadata": {},
   "outputs": [],
   "source": []
  }
 ],
 "metadata": {
  "kernelspec": {
   "display_name": "Python 3 (ipykernel)",
   "language": "python",
   "name": "python3"
  },
  "language_info": {
   "codemirror_mode": {
    "name": "ipython",
    "version": 3
   },
   "file_extension": ".py",
   "mimetype": "text/x-python",
   "name": "python",
   "nbconvert_exporter": "python",
   "pygments_lexer": "ipython3",
   "version": "3.12.4"
  }
 },
 "nbformat": 4,
 "nbformat_minor": 5
}
